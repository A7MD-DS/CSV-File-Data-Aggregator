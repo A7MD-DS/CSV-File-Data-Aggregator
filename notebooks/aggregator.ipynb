{
 "cells": [
  {
   "cell_type": "code",
   "execution_count": 1,
   "id": "80410d0d-d2ea-4b55-ad93-1590b6d8ea26",
   "metadata": {},
   "outputs": [],
   "source": [
    "import pandas as pd \n",
    "import glob\n",
    "import os"
   ]
  },
  {
   "cell_type": "code",
   "execution_count": 2,
   "id": "604a4c3b",
   "metadata": {},
   "outputs": [
    {
     "name": "stdout",
     "output_type": "stream",
     "text": [
      "         Date     Product  Quantity_Sold  Unit_Price  Revenue\n",
      "0  2024-01-01      Laptop              5        1000     5000\n",
      "1  2024-01-01       Phone             10         500     5000\n",
      "2  2024-01-01  Headphones              3         150      450\n",
      "3  2024-01-02      Laptop              7         950     6650\n",
      "4  2024-01-02       Phone              8         520     4160\n"
     ]
    }
   ],
   "source": [
    "folder_path = '../data/'\n",
    "csv_files = glob.glob(os.path.join(folder_path, '*.csv'))\n",
    "\n",
    "df_list = [pd.read_csv(file) for file in csv_files]\n",
    "combined_df = pd.concat(df_list, ignore_index=True)\n",
    "\n",
    "#calculate revenue per row\n",
    "combined_df[\"Revenue\"] = combined_df[\"Quantity_Sold\"] * combined_df[\"Unit_Price\"]\n",
    "\n",
    "print(combined_df.head())"
   ]
  },
  {
   "cell_type": "code",
   "execution_count": 4,
   "id": "a2b12e27",
   "metadata": {},
   "outputs": [],
   "source": [
    "combined_df.to_csv('combined_sales_data.csv', index=False)"
   ]
  },
  {
   "cell_type": "code",
   "execution_count": null,
   "id": "50ca19b3",
   "metadata": {},
   "outputs": [],
   "source": []
  }
 ],
 "metadata": {
  "kernelspec": {
   "display_name": "base",
   "language": "python",
   "name": "python3"
  },
  "language_info": {
   "codemirror_mode": {
    "name": "ipython",
    "version": 3
   },
   "file_extension": ".py",
   "mimetype": "text/x-python",
   "name": "python",
   "nbconvert_exporter": "python",
   "pygments_lexer": "ipython3",
   "version": "3.13.5"
  }
 },
 "nbformat": 4,
 "nbformat_minor": 5
}
